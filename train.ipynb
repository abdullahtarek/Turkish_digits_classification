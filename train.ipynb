{
 "cells": [
  {
   "cell_type": "code",
   "execution_count": 1,
   "metadata": {},
   "outputs": [],
   "source": [
    "from load_dataset import load_dataset, train_test_split\n",
    "from trainer import trainer"
   ]
  },
  {
   "cell_type": "code",
   "execution_count": 2,
   "metadata": {},
   "outputs": [],
   "source": [
    "Dataset_paths=\"Dataset/*/*\"\n",
    "img_size,num_channels,num_classes = 28,3,10\n",
    "train_percentage = 0.8\n",
    "keep_prop= 0.75\n",
    "\n",
    "data , labels = load_dataset(Dataset_paths,img_size,num_channels,num_classes)\n",
    "train_data,train_labels,val_data,val_labels = train_test_split(data,labels,train_percentage)"
   ]
  },
  {
   "cell_type": "code",
   "execution_count": 3,
   "metadata": {},
   "outputs": [
    {
     "name": "stdout",
     "output_type": "stream",
     "text": [
      "WARNING:tensorflow:From /usr/local/anaconda/lib/python3.6/site-packages/tensorflow/python/framework/op_def_library.py:263: colocate_with (from tensorflow.python.framework.ops) is deprecated and will be removed in a future version.\n",
      "Instructions for updating:\n",
      "Colocations handled automatically by placer.\n",
      "WARNING:tensorflow:From /mnt/Turkish_digits_classification/utils.py:21: calling dropout (from tensorflow.python.ops.nn_ops) with keep_prob is deprecated and will be removed in a future version.\n",
      "Instructions for updating:\n",
      "Please use `rate` instead of `keep_prob`. Rate should be set to `rate = 1 - keep_prob`.\n",
      "WARNING:tensorflow:From /mnt/Turkish_digits_classification/utils.py:13: flatten (from tensorflow.python.layers.core) is deprecated and will be removed in a future version.\n",
      "Instructions for updating:\n",
      "Use keras.layers.flatten instead.\n",
      "WARNING:tensorflow:From /mnt/Turkish_digits_classification/trainer.py:22: softmax_cross_entropy_with_logits (from tensorflow.python.ops.nn_ops) is deprecated and will be removed in a future version.\n",
      "Instructions for updating:\n",
      "\n",
      "Future major versions of TensorFlow will allow gradients to flow\n",
      "into the labels input on backprop by default.\n",
      "\n",
      "See `tf.nn.softmax_cross_entropy_with_logits_v2`.\n",
      "\n",
      "WARNING:tensorflow:From /mnt/Turkish_digits_classification/trainer.py:25: calling argmax (from tensorflow.python.ops.math_ops) with dimension is deprecated and will be removed in a future version.\n",
      "Instructions for updating:\n",
      "Use the `axis` argument instead\n",
      "epoch 0: Training accuracy:: 0.234375 , Validation accuracy:: 0.49394673109054565 \n",
      "epoch 1: Training accuracy:: 0.6099759340286255 , Validation accuracy:: 0.8184019327163696 \n",
      "epoch 2: Training accuracy:: 0.7536057829856873 , Validation accuracy:: 0.8474576473236084 \n",
      "epoch 3: Training accuracy:: 0.823317289352417 , Validation accuracy:: 0.8765133023262024 \n",
      "epoch 4: Training accuracy:: 0.8665865659713745 , Validation accuracy:: 0.9225181341171265 \n",
      "epoch 5: Training accuracy:: 0.8918269276618958 , Validation accuracy:: 0.9249394536018372 \n",
      "epoch 6: Training accuracy:: 0.9068509340286255 , Validation accuracy:: 0.9491525292396545 \n",
      "epoch 7: Training accuracy:: 0.9098557829856873 , Validation accuracy:: 0.9322034120559692 \n",
      "epoch 8: Training accuracy:: 0.9260817170143127 , Validation accuracy:: 0.9249394536018372 \n",
      "epoch 9: Training accuracy:: 0.9362980723381042 , Validation accuracy:: 0.9491525292396545 \n",
      "epoch 10: Training accuracy:: 0.9477163553237915 , Validation accuracy:: 0.9636803865432739 \n",
      "epoch 11: Training accuracy:: 0.9573317170143127 , Validation accuracy:: 0.9249394536018372 \n",
      "epoch 12: Training accuracy:: 0.9585336446762085 , Validation accuracy:: 0.9564164876937866 \n",
      "epoch 13: Training accuracy:: 0.9615384340286255 , Validation accuracy:: 0.9636803865432739 \n",
      "epoch 14: Training accuracy:: 0.9621394276618958 , Validation accuracy:: 0.9443099498748779 \n",
      "epoch 15: Training accuracy:: 0.9597355723381042 , Validation accuracy:: 0.9636803865432739 \n"
     ]
    }
   ],
   "source": [
    "batch_size = 16\n",
    "num_of_epochs= 16\n",
    "\n",
    "trainer(batch_size,num_of_epochs,keep_prop, train_data,train_labels,val_data,val_labels)"
   ]
  },
  {
   "cell_type": "code",
   "execution_count": null,
   "metadata": {},
   "outputs": [],
   "source": []
  },
  {
   "cell_type": "code",
   "execution_count": null,
   "metadata": {},
   "outputs": [],
   "source": []
  }
 ],
 "metadata": {
  "kernelspec": {
   "display_name": "Python 3",
   "language": "python",
   "name": "python3"
  },
  "language_info": {
   "codemirror_mode": {
    "name": "ipython",
    "version": 3
   },
   "file_extension": ".py",
   "mimetype": "text/x-python",
   "name": "python",
   "nbconvert_exporter": "python",
   "pygments_lexer": "ipython3",
   "version": "3.6.8"
  }
 },
 "nbformat": 4,
 "nbformat_minor": 2
}
