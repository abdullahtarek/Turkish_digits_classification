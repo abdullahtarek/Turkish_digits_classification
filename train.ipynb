{
 "cells": [
  {
   "cell_type": "code",
   "execution_count": 1,
   "metadata": {},
   "outputs": [],
   "source": [
    "from load_dataset import load_dataset, train_test_split\n",
    "from trainer import trainer"
   ]
  },
  {
   "cell_type": "code",
   "execution_count": 2,
   "metadata": {},
   "outputs": [],
   "source": [
    "Dataset_paths=\"Dataset/*/*\"\n",
    "img_size,num_channels,num_classes = 28,3,10\n",
    "train_percentage = 0.8\n",
    "keep_prop= 0.75\n",
    "\n",
    "data , labels = load_dataset(Dataset_paths,img_size,num_channels,num_classes)\n",
    "train_data,train_labels,val_data,val_labels = train_test_split(data,labels,train_percentage)"
   ]
  },
  {
   "cell_type": "code",
   "execution_count": 3,
   "metadata": {},
   "outputs": [
    {
     "name": "stdout",
     "output_type": "stream",
     "text": [
      "WARNING:tensorflow:From /usr/local/anaconda/lib/python3.6/site-packages/tensorflow/python/framework/op_def_library.py:263: colocate_with (from tensorflow.python.framework.ops) is deprecated and will be removed in a future version.\n",
      "Instructions for updating:\n",
      "Colocations handled automatically by placer.\n",
      "WARNING:tensorflow:From /mnt/Turkish_digits/utils.py:21: calling dropout (from tensorflow.python.ops.nn_ops) with keep_prob is deprecated and will be removed in a future version.\n",
      "Instructions for updating:\n",
      "Please use `rate` instead of `keep_prob`. Rate should be set to `rate = 1 - keep_prob`.\n",
      "WARNING:tensorflow:From /mnt/Turkish_digits/utils.py:13: flatten (from tensorflow.python.layers.core) is deprecated and will be removed in a future version.\n",
      "Instructions for updating:\n",
      "Use keras.layers.flatten instead.\n",
      "WARNING:tensorflow:From /mnt/Turkish_digits/trainer.py:22: softmax_cross_entropy_with_logits (from tensorflow.python.ops.nn_ops) is deprecated and will be removed in a future version.\n",
      "Instructions for updating:\n",
      "\n",
      "Future major versions of TensorFlow will allow gradients to flow\n",
      "into the labels input on backprop by default.\n",
      "\n",
      "See `tf.nn.softmax_cross_entropy_with_logits_v2`.\n",
      "\n",
      "WARNING:tensorflow:From /mnt/Turkish_digits/trainer.py:25: calling argmax (from tensorflow.python.ops.math_ops) with dimension is deprecated and will be removed in a future version.\n",
      "Instructions for updating:\n",
      "Use the `axis` argument instead\n",
      "epoch 0: Training accuracy:: 0.21875 , Validation accuracy:: 0.4600484371185303 \n",
      "epoch 1: Training accuracy:: 0.5102163553237915 , Validation accuracy:: 0.7723971009254456 \n",
      "epoch 2: Training accuracy:: 0.6772836446762085 , Validation accuracy:: 0.823244571685791 \n",
      "epoch 3: Training accuracy:: 0.739182710647583 , Validation accuracy:: 0.8644067645072937 \n",
      "epoch 4: Training accuracy:: 0.8028846383094788 , Validation accuracy:: 0.8692494034767151 \n",
      "epoch 5: Training accuracy:: 0.840745210647583 , Validation accuracy:: 0.8765133023262024 \n",
      "epoch 6: Training accuracy:: 0.8425480723381042 , Validation accuracy:: 0.8983050584793091 \n",
      "epoch 7: Training accuracy:: 0.8792067170143127 , Validation accuracy:: 0.8983050584793091 \n",
      "epoch 8: Training accuracy:: 0.8792067170143127 , Validation accuracy:: 0.9176755547523499 \n",
      "epoch 9: Training accuracy:: 0.887620210647583 , Validation accuracy:: 0.8983050584793091 \n",
      "epoch 10: Training accuracy:: 0.8972355723381042 , Validation accuracy:: 0.9079903364181519 \n",
      "epoch 11: Training accuracy:: 0.8978365659713745 , Validation accuracy:: 0.9273607730865479 \n",
      "epoch 12: Training accuracy:: 0.9098557829856873 , Validation accuracy:: 0.9322034120559692 \n",
      "epoch 13: Training accuracy:: 0.9086538553237915 , Validation accuracy:: 0.9249394536018372 \n",
      "epoch 14: Training accuracy:: 0.9212740659713745 , Validation accuracy:: 0.9322034120559692 \n",
      "epoch 15: Training accuracy:: 0.909254789352417 , Validation accuracy:: 0.9370459914207458 \n"
     ]
    }
   ],
   "source": [
    "batch_size = 16\n",
    "num_of_epochs= 16\n",
    "\n",
    "trainer(batch_size,num_of_epochs,keep_prop, train_data,train_labels,val_data,val_labels)"
   ]
  },
  {
   "cell_type": "code",
   "execution_count": null,
   "metadata": {},
   "outputs": [],
   "source": []
  }
 ],
 "metadata": {
  "kernelspec": {
   "display_name": "Python 3",
   "language": "python",
   "name": "python3"
  },
  "language_info": {
   "codemirror_mode": {
    "name": "ipython",
    "version": 3
   },
   "file_extension": ".py",
   "mimetype": "text/x-python",
   "name": "python",
   "nbconvert_exporter": "python",
   "pygments_lexer": "ipython3",
   "version": "3.6.8"
  }
 },
 "nbformat": 4,
 "nbformat_minor": 2
}
